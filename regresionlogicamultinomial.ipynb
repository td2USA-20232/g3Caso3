{
 "cells": [
  {
   "cell_type": "markdown",
   "metadata": {},
   "source": [
    "# Regresion logica multinomial"
   ]
  },
  {
   "cell_type": "code",
   "execution_count": 202,
   "metadata": {},
   "outputs": [],
   "source": [
    "import numpy as np\n",
    "import pandas as pd\n",
    "\n",
    "from sklearn.linear_model import LogisticRegression\n",
    "from sklearn.model_selection import train_test_split\n",
    "from sklearn import preprocessing\n",
    "\n",
    "#for chapter 3.2\n",
    "from sklearn.metrics import accuracy_score\n",
    "from sklearn.model_selection import cross_val_score\n",
    "from sklearn.metrics import confusion_matrix\n",
    "import matplotlib as mpl\n",
    "import matplotlib.pyplot as plt\n",
    "\n",
    "import seaborn as sns\n",
    "\n",
    "#for chapter 4\n",
    "import statsmodels.api as sm\n",
    "\n",
    "from sklearn.datasets import fetch_california_housing\n",
    "from sklearn import datasets\n"
   ]
  },
  {
   "cell_type": "code",
   "execution_count": 203,
   "metadata": {},
   "outputs": [
    {
     "data": {
      "text/html": [
       "<div>\n",
       "<style scoped>\n",
       "    .dataframe tbody tr th:only-of-type {\n",
       "        vertical-align: middle;\n",
       "    }\n",
       "\n",
       "    .dataframe tbody tr th {\n",
       "        vertical-align: top;\n",
       "    }\n",
       "\n",
       "    .dataframe thead th {\n",
       "        text-align: right;\n",
       "    }\n",
       "</style>\n",
       "<table border=\"1\" class=\"dataframe\">\n",
       "  <thead>\n",
       "    <tr style=\"text-align: right;\">\n",
       "      <th></th>\n",
       "      <th>sepal_length</th>\n",
       "      <th>sepal_width</th>\n",
       "      <th>petal_length</th>\n",
       "      <th>petal_width</th>\n",
       "      <th>species</th>\n",
       "    </tr>\n",
       "  </thead>\n",
       "  <tbody>\n",
       "    <tr>\n",
       "      <th>114</th>\n",
       "      <td>5.8</td>\n",
       "      <td>2.8</td>\n",
       "      <td>5.1</td>\n",
       "      <td>2.4</td>\n",
       "      <td>virginica</td>\n",
       "    </tr>\n",
       "    <tr>\n",
       "      <th>62</th>\n",
       "      <td>6.0</td>\n",
       "      <td>2.2</td>\n",
       "      <td>4.0</td>\n",
       "      <td>1.0</td>\n",
       "      <td>versicolor</td>\n",
       "    </tr>\n",
       "    <tr>\n",
       "      <th>33</th>\n",
       "      <td>5.5</td>\n",
       "      <td>4.2</td>\n",
       "      <td>1.4</td>\n",
       "      <td>0.2</td>\n",
       "      <td>setosa</td>\n",
       "    </tr>\n",
       "    <tr>\n",
       "      <th>107</th>\n",
       "      <td>7.3</td>\n",
       "      <td>2.9</td>\n",
       "      <td>6.3</td>\n",
       "      <td>1.8</td>\n",
       "      <td>virginica</td>\n",
       "    </tr>\n",
       "    <tr>\n",
       "      <th>7</th>\n",
       "      <td>5.0</td>\n",
       "      <td>3.4</td>\n",
       "      <td>1.5</td>\n",
       "      <td>0.2</td>\n",
       "      <td>setosa</td>\n",
       "    </tr>\n",
       "  </tbody>\n",
       "</table>\n",
       "</div>"
      ],
      "text/plain": [
       "     sepal_length  sepal_width  petal_length  petal_width     species\n",
       "114           5.8          2.8           5.1          2.4   virginica\n",
       "62            6.0          2.2           4.0          1.0  versicolor\n",
       "33            5.5          4.2           1.4          0.2      setosa\n",
       "107           7.3          2.9           6.3          1.8   virginica\n",
       "7             5.0          3.4           1.5          0.2      setosa"
      ]
     },
     "execution_count": 203,
     "metadata": {},
     "output_type": "execute_result"
    }
   ],
   "source": [
    "iris= sns.load_dataset(\"iris\")\n",
    "iris.sample(5, random_state = 0)"
   ]
  },
  {
   "cell_type": "code",
   "execution_count": 204,
   "metadata": {},
   "outputs": [
    {
     "name": "stdout",
     "output_type": "stream",
     "text": [
      "   sepal length (cm)  sepal width (cm)  petal length (cm)  petal width (cm)  \\\n",
      "0                5.1               3.5                1.4               0.2   \n",
      "1                4.9               3.0                1.4               0.2   \n",
      "2                4.7               3.2                1.3               0.2   \n",
      "3                4.6               3.1                1.5               0.2   \n",
      "4                5.0               3.6                1.4               0.2   \n",
      "\n",
      "   species  \n",
      "0        0  \n",
      "1        0  \n",
      "2        0  \n",
      "3        0  \n",
      "4        0  \n"
     ]
    }
   ],
   "source": [
    "# Cargar el conjunto de datos Iris\n",
    "iris = datasets.load_iris()\n",
    "data = iris.data  # Obtener los datos\n",
    "feature_names = iris.feature_names  # Obtener los nombres de las características\n",
    "target = iris.target  # Obtener las etiquetas de especies\n",
    "\n",
    "# Crear un DataFrame de pandas con los datos de Iris, los nombres de las características y la columna de especies\n",
    "iris = pd.DataFrame(data=data, columns=feature_names)\n",
    "iris['species'] = target  # Agregar la columna de especies al DataFrame\n",
    "\n",
    "# Mostrar las primeras filas del DataFrame\n",
    "print(iris.head())"
   ]
  },
  {
   "cell_type": "code",
   "execution_count": 205,
   "metadata": {},
   "outputs": [],
   "source": [
    "X = iris.drop(['species'], axis=1)\n",
    "y = iris['species']"
   ]
  },
  {
   "cell_type": "code",
   "execution_count": 206,
   "metadata": {},
   "outputs": [],
   "source": [
    "from sklearn.model_selection import train_test_split\n",
    "\n",
    "#Semilla aleatoria debido que es un modelo de aprendizaje porlo tanto cada que ejecute el mismo codigo, obtendra la misma división de datos cada vez. \n",
    "\n",
    "SEED = 42\n",
    "# Esta línea realiza la división real del conjunto de datos en conjuntos de entrenamiento y prueba. \n",
    "trainX, testX, trainY, testY = train_test_split(X, y, test_size=0.25, random_state=SEED)"
   ]
  },
  {
   "cell_type": "code",
   "execution_count": 207,
   "metadata": {},
   "outputs": [],
   "source": [
    "from sklearn.linear_model import LogisticRegression\n",
    "\n",
    "log_reg = LogisticRegression(solver='newton-cg', multi_class='multinomial')\n",
    "log_reg.fit(trainX, trainY)\n",
    "y_pred = log_reg.predict(testX)"
   ]
  },
  {
   "cell_type": "code",
   "execution_count": 208,
   "metadata": {},
   "outputs": [
    {
     "name": "stdout",
     "output_type": "stream",
     "text": [
      "Accuracy: 1.00\n",
      "Error rate: 0.00\n"
     ]
    }
   ],
   "source": [
    "print('Accuracy: {:.2f}'.format(accuracy_score(testY, y_pred)))\n",
    "print('Error rate: {:.2f}'.format(1 - accuracy_score(testY, y_pred)))"
   ]
  },
  {
   "cell_type": "code",
   "execution_count": 209,
   "metadata": {},
   "outputs": [
    {
     "data": {
      "text/plain": [
       "array([1.        , 1.        , 0.86363636, 1.        , 0.95454545])"
      ]
     },
     "execution_count": 209,
     "metadata": {},
     "output_type": "execute_result"
    }
   ],
   "source": [
    "clf = LogisticRegression(solver='newton-cg', multi_class='multinomial')\n",
    "scores = cross_val_score(clf, trainX, trainY, cv=5)\n",
    "scores"
   ]
  },
  {
   "cell_type": "code",
   "execution_count": 210,
   "metadata": {},
   "outputs": [
    {
     "name": "stdout",
     "output_type": "stream",
     "text": [
      "              precision    recall  f1-score   support\n",
      "\n",
      "           0       1.00      1.00      1.00        15\n",
      "           1       1.00      1.00      1.00        11\n",
      "           2       1.00      1.00      1.00        12\n",
      "\n",
      "    accuracy                           1.00        38\n",
      "   macro avg       1.00      1.00      1.00        38\n",
      "weighted avg       1.00      1.00      1.00        38\n",
      "\n"
     ]
    },
    {
     "data": {
      "image/png": "[encoded data removed]",
      "text/plain": [
       "<Figure size 640x480 with 2 Axes>"
      ]
     },
     "metadata": {},
     "output_type": "display_data"
    }
   ],
   "source": [
    "from sklearn.metrics import classification_report, confusion_matrix\n",
    "#importing Seaborn's to use the heatmap \n",
    "import seaborn as sns\n",
    "\n",
    "# Añadir nombres de clases para una mejor nterpretación\n",
    "classes_names = ['class 1','class 2','class 3']\n",
    "\n",
    "#Crear matriz de confusión\n",
    "cm = pd.DataFrame(confusion_matrix(testY, y_pred), \n",
    "                  columns=classes_names, index = classes_names)\n",
    "                  \n",
    "# Seaborn's heatmap to better visualize the confusion matrix\n",
    "#Se utiliza Seaborn para crear un mapa de calor (heatmap) que visualiza la matriz de confusión\n",
    "sns.heatmap(cm, annot=True, fmt='d');\n",
    "\n",
    "# El informe de clasificación proporciona una serie de métricas, incluyendo la precisión, el recall, la puntuación F1 \n",
    "print(classification_report(testY, y_pred))"
   ]
  },
  {
   "cell_type": "code",
   "execution_count": 211,
   "metadata": {},
   "outputs": [
    {
     "data": {
      "text/plain": [
       "array([[3.98128027e-03, 8.22150003e-01, 1.73868716e-01],\n",
       "       [9.44165224e-01, 5.58344661e-02, 3.09895682e-07],\n",
       "       [1.20732365e-08, 1.82798756e-03, 9.98172000e-01],\n",
       "       [6.67742550e-03, 7.87135087e-01, 2.06187488e-01],\n",
       "       [1.54111253e-03, 7.69785250e-01, 2.28673638e-01],\n",
       "       [9.52635948e-01, 4.73637898e-02, 2.62029613e-07],\n",
       "       [7.75275970e-02, 9.06999481e-01, 1.54729224e-02],\n",
       "       [1.77907381e-04, 1.58487419e-01, 8.41334673e-01],\n",
       "       [2.32969943e-03, 7.75462482e-01, 2.22207819e-01],\n",
       "       [2.87044401e-02, 9.44157018e-01, 2.71385418e-02],\n",
       "       [4.69925226e-04, 2.40857451e-01, 7.58672624e-01],\n",
       "       [9.65410413e-01, 3.45894735e-02, 1.13202578e-07],\n",
       "       [9.70926615e-01, 2.90733331e-02, 5.17646981e-08],\n",
       "       [9.58962905e-01, 4.10369331e-02, 1.61582771e-07],\n",
       "       [9.77781831e-01, 2.22180665e-02, 1.02332752e-07],\n",
       "       [4.72651978e-03, 6.96428005e-01, 2.98845476e-01],\n",
       "       [8.51557538e-06, 2.58093147e-02, 9.74182170e-01],\n",
       "       [2.75674593e-02, 9.46872557e-01, 2.55599840e-02],\n",
       "       [8.51426748e-03, 8.27258955e-01, 1.64226778e-01],\n",
       "       [1.68653282e-05, 3.91618414e-02, 9.60821293e-01],\n",
       "       [9.61412832e-01, 3.85868876e-02, 2.80444954e-07],\n",
       "       [1.39249898e-03, 3.98573313e-01, 6.00034188e-01],\n",
       "       [9.58715059e-01, 4.12845566e-02, 3.84126461e-07],\n",
       "       [2.18547917e-05, 4.95034149e-02, 9.50474730e-01],\n",
       "       [1.80661287e-06, 2.40803916e-02, 9.75917802e-01],\n",
       "       [1.04902007e-04, 1.09324409e-01, 8.90570689e-01],\n",
       "       [1.05921376e-05, 6.41936255e-02, 9.35795782e-01],\n",
       "       [5.01778438e-06, 1.96695189e-02, 9.80325463e-01],\n",
       "       [9.63713758e-01, 3.62860480e-02, 1.93910013e-07],\n",
       "       [9.52742132e-01, 4.72575348e-02, 3.33075086e-07],\n",
       "       [9.93732195e-01, 6.26779644e-03, 8.18492641e-09],\n",
       "       [9.81364647e-01, 1.86352895e-02, 6.34623346e-08],\n",
       "       [6.68894717e-03, 9.06667757e-01, 8.66432954e-02],\n",
       "       [9.66832233e-01, 3.31675531e-02, 2.13495665e-07],\n",
       "       [9.83969161e-01, 1.60307779e-02, 6.11003438e-08],\n",
       "       [3.45747045e-04, 2.76851937e-01, 7.22802316e-01],\n",
       "       [7.18759612e-03, 8.36070224e-01, 1.56742180e-01],\n",
       "       [9.66158025e-01, 3.38418494e-02, 1.25665258e-07]])"
      ]
     },
     "execution_count": 211,
     "metadata": {},
     "output_type": "execute_result"
    }
   ],
   "source": [
    "probability = log_reg.predict_proba(testX)\n",
    "probability"
   ]
  },
  {
   "cell_type": "code",
   "execution_count": 212,
   "metadata": {},
   "outputs": [
    {
     "name": "stdout",
     "output_type": "stream",
     "text": [
      "              precision    recall  f1-score   support\n",
      "\n",
      "      Setosa       1.00      1.00      1.00        15\n",
      "  Versicolor       1.00      1.00      1.00        11\n",
      "  Virginical       1.00      1.00      1.00        12\n",
      "\n",
      "    accuracy                           1.00        38\n",
      "   macro avg       1.00      1.00      1.00        38\n",
      "weighted avg       1.00      1.00      1.00        38\n",
      "\n"
     ]
    }
   ],
   "source": [
    "target_names = [\"Setosa\", 'Versicolor' ,'Virginical']\n",
    "print(classification_report(testY, y_pred,target_names=target_names))"
   ]
  },
  {
   "cell_type": "markdown",
   "metadata": {},
   "source": [
    "## Referencia\n",
    "\n",
    "Multinomial Logistic Regression - Michael Fuchs Python. (2019, 15 noviembre). https://michael-fuchs-python.netlify.app/2019/11/15/multinomial-logistic-regression/"
   ]
  }
 ],
 "metadata": {
  "kernelspec": {
   "display_name": "Python 3",
   "language": "python",
   "name": "python3"
  },
  "language_info": {
   "codemirror_mode": {
    "name": "ipython",
    "version": 3
   },
   "file_extension": ".py",
   "mimetype": "text/x-python",
   "name": "python",
   "nbconvert_exporter": "python",
   "pygments_lexer": "ipython3",
   "version": "3.11.4"
  },
  "orig_nbformat": 4
 },
 "nbformat": 4,
 "nbformat_minor": 2
}
